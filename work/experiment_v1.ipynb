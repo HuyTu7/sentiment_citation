{
 "cells": [
  {
   "cell_type": "code",
   "execution_count": 1,
   "metadata": {},
   "outputs": [],
   "source": [
    "import numpy as np\n",
    "import pickle\n",
    "\n",
    "import sys\n",
    "sys.path.append('../preprocess/')\n",
    "from sklearn.model_selection import cross_val_score, train_test_split\n",
    "from sklearn.metrics import classification_report\n",
    "from sklearn import svm\n",
    "from sklearn.naive_bayes import GaussianNB\n",
    "from sklearn.ensemble import RandomForestClassifier\n",
    "from features_engineer import load_data, normalize_data, pca\n",
    "from tuning import run_tuning\n",
    "\n",
    "\n",
    "def pickle_operating(fname, item, flag):\n",
    "    # save or load the pickle file.\n",
    "    file_name = '%s.pickle' % fname\n",
    "    print(file_name)\n",
    "    if flag == 1:\n",
    "        with open(file_name, 'rb') as fs:\n",
    "            item = pickle.load(fs)\n",
    "            return item\n",
    "    else:\n",
    "        with open(file_name, 'wb') as fs:\n",
    "            pickle.dump(item, fs, protocol=pickle.HIGHEST_PROTOCOL)"
   ]
  },
  {
   "cell_type": "code",
   "execution_count": null,
   "metadata": {},
   "outputs": [],
   "source": [
    "train_path = './sentences.csv'\n",
    "X_train, y_train = load_data(train_path, False)"
   ]
  },
  {
   "cell_type": "code",
   "execution_count": null,
   "metadata": {},
   "outputs": [],
   "source": [
    "pca_feature_selection = pca(X_train, 1000)\n",
    "X_t = pca_feature_selection.transform(X_train)\n",
    "pickle_operating('X_pca_1000', X_t, 0)\n",
    "pickle_operating('y_train', y_train, 0)"
   ]
  },
  {
   "cell_type": "code",
   "execution_count": 2,
   "metadata": {},
   "outputs": [
    {
     "name": "stdout",
     "output_type": "stream",
     "text": [
      "X_pca_1000.pickle\n",
      "y_train.pickle\n"
     ]
    }
   ],
   "source": [
    "X_t = pickle_operating('X_pca_1000', None, 1)\n",
    "y_train = pickle_operating('y_train', None, 1)"
   ]
  },
  {
   "cell_type": "code",
   "execution_count": 3,
   "metadata": {},
   "outputs": [
    {
     "name": "stdout",
     "output_type": "stream",
     "text": [
      "('Mean Length: ', 1452)\n",
      "20171208_01:28:24 ### Now life is:  3\n",
      "newbestscore {'Micro_F': 0.842}:\n",
      "bestconf {'kernel': 'rbf', 'C': 43, 'random_state': 1, 'coef0': 0.44} :\n",
      "TUNING DONE !\n",
      "('Mean Length: ', 1452)\n",
      "20171208_01:32:51 ### Now life is:  3\n",
      "newbestscore {'Micro_F': 0.87}:\n",
      "bestconf {'kernel': 'poly', 'C': 1, 'random_state': 42, 'coef0': 0.191} :\n",
      "TUNING DONE !\n",
      "('Mean Length: ', 1453)\n",
      "20171208_01:38:16 ### Now life is:  3\n",
      "newbestscore {'Micro_F': 0.834}:\n",
      "bestconf {'kernel': 'rbf', 'C': 30, 'random_state': 42, 'coef0': 0.49} :\n",
      "TUNING DONE !\n",
      "('Mean Length: ', 1453)\n",
      "20171208_01:42:52 ### Now life is:  3\n",
      "newbestscore {'Micro_F': 0.823}:\n",
      "bestconf {'kernel': 'rbf', 'C': 30, 'random_state': 42, 'coef0': 0.49} :\n",
      "TUNING DONE !\n",
      "('Mean Length: ', 1453)\n",
      "20171208_01:47:20 ### Now life is:  3\n",
      "newbestscore {'Micro_F': 0.849}:\n",
      "bestconf {'kernel': 'rbf', 'C': 30, 'random_state': 42, 'coef0': 0.49} :\n",
      "TUNING DONE !\n",
      "('Mean Length: ', 1452)\n",
      "20171208_01:51:44 ### Now life is:  3\n",
      "newbestscore {'Micro_F': 0.84}:\n",
      "bestconf {'kernel': 'rbf', 'C': 43, 'random_state': 1, 'coef0': 0.44} :\n",
      "TUNING DONE !\n",
      "('Mean Length: ', 1452)\n",
      "20171208_01:56:04 ### Now life is:  3\n",
      "newbestscore {'Micro_F': 0.873}:\n",
      "bestconf {'kernel': 'poly', 'C': 1, 'random_state': 42, 'coef0': 0.191} :\n",
      "TUNING DONE !\n",
      "('Mean Length: ', 1453)\n",
      "20171208_02:01:08 ### Now life is:  3\n",
      "newbestscore {'Micro_F': 0.828}:\n",
      "bestconf {'kernel': 'rbf', 'C': 30, 'random_state': 42, 'coef0': 0.49} :\n",
      "TUNING DONE !\n",
      "('Mean Length: ', 1453)\n",
      "20171208_02:05:17 ### Now life is:  3\n",
      "TUNING DONE !\n",
      "('Mean Length: ', 1453)\n",
      "20171208_02:09:25 ### Now life is:  3\n",
      "TUNING DONE !\n",
      "('Mean Length: ', 1452)\n",
      "20171208_02:13:32 ### Now life is:  3\n",
      "newbestscore {'Micro_F': 0.84}:\n",
      "bestconf {'kernel': 'rbf', 'C': 43, 'random_state': 1, 'coef0': 0.44} :\n",
      "TUNING DONE !\n",
      "('Mean Length: ', 1452)\n",
      "20171208_02:17:50 ### Now life is:  3\n",
      "newbestscore {'Micro_F': 0.873}:\n",
      "bestconf {'kernel': 'poly', 'C': 1, 'random_state': 42, 'coef0': 0.191} :\n",
      "TUNING DONE !\n",
      "('Mean Length: ', 1453)\n",
      "20171208_02:22:59 ### Now life is:  3\n",
      "newbestscore {'Micro_F': 0.828}:\n",
      "bestconf {'kernel': 'rbf', 'C': 30, 'random_state': 42, 'coef0': 0.49} :\n",
      "TUNING DONE !\n",
      "('Mean Length: ', 1453)\n",
      "20171208_02:27:18 ### Now life is:  3\n",
      "TUNING DONE !\n",
      "('Mean Length: ', 1453)\n",
      "20171208_02:31:32 ### Now life is:  3\n",
      "TUNING DONE !\n"
     ]
    }
   ],
   "source": [
    "tuning_goal = \"Micro_F\"\n",
    "model = 'svm'\n",
    "tuned_params = run_tuning(X_t, np.array(y_train), tuning_goal, model)"
   ]
  },
  {
   "cell_type": "code",
   "execution_count": 4,
   "metadata": {},
   "outputs": [
    {
     "name": "stdout",
     "output_type": "stream",
     "text": [
      "({'kernel': 'poly', 'C': 1, 'random_state': 42, 'coef0': 0.191}, {'Micro_F': 0.873})\n",
      "({'kernel': 'poly', 'C': 1, 'random_state': 42, 'coef0': 0.191}, {'Micro_F': 0.873})\n",
      "({'kernel': 'poly', 'C': 1, 'random_state': 42, 'coef0': 0.191}, {'Micro_F': 0.87})\n",
      "({'kernel': 'rbf', 'C': 30, 'random_state': 42, 'coef0': 0.49}, {'Micro_F': 0.849})\n",
      "({'kernel': 'rbf', 'C': 43, 'random_state': 1, 'coef0': 0.44}, {'Micro_F': 0.842})\n",
      "({'kernel': 'poly', 'C': 51, 'random_state': 1, 'coef0': 0.231}, {'Micro_F': 0.841})\n",
      "({'kernel': 'poly', 'C': 51, 'random_state': 1, 'coef0': 0.231}, {'Micro_F': 0.841})\n",
      "({'kernel': 'rbf', 'C': 43, 'random_state': 1, 'coef0': 0.44}, {'Micro_F': 0.84})\n",
      "({'kernel': 'rbf', 'C': 43, 'random_state': 1, 'coef0': 0.44}, {'Micro_F': 0.84})\n",
      "({'kernel': 'rbf', 'C': 99, 'random_state': 1, 'coef0': 0.374}, {'Micro_F': 0.837})\n",
      "({'kernel': 'rbf', 'C': 99, 'random_state': 1, 'coef0': 0.374}, {'Micro_F': 0.837})\n",
      "({'kernel': 'rbf', 'C': 30, 'random_state': 42, 'coef0': 0.49}, {'Micro_F': 0.834})\n",
      "({'kernel': 'rbf', 'C': 30, 'random_state': 42, 'coef0': 0.49}, {'Micro_F': 0.828})\n",
      "({'kernel': 'rbf', 'C': 30, 'random_state': 42, 'coef0': 0.49}, {'Micro_F': 0.828})\n",
      "({'kernel': 'rbf', 'C': 30, 'random_state': 42, 'coef0': 0.49}, {'Micro_F': 0.823})\n"
     ]
    }
   ],
   "source": [
    "for param in tuned_params:\n",
    "    print(param)"
   ]
  },
  {
   "cell_type": "code",
   "execution_count": null,
   "metadata": {},
   "outputs": [],
   "source": []
  }
 ],
 "metadata": {
  "kernelspec": {
   "display_name": "Python 2",
   "language": "python",
   "name": "python2"
  },
  "language_info": {
   "codemirror_mode": {
    "name": "ipython",
    "version": 2
   },
   "file_extension": ".py",
   "mimetype": "text/x-python",
   "name": "python",
   "nbconvert_exporter": "python",
   "pygments_lexer": "ipython2",
   "version": "2.7.13"
  }
 },
 "nbformat": 4,
 "nbformat_minor": 2
}
